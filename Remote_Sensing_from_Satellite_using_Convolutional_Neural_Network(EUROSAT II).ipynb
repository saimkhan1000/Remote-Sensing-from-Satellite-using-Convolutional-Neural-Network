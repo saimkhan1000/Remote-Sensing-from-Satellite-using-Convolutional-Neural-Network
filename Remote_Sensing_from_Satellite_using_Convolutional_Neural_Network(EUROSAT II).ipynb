{
 "cells": [
  {
   "cell_type": "code",
   "execution_count": null,
   "metadata": {
    "colab": {
     "base_uri": "https://localhost:8080/",
     "height": 84
    },
    "colab_type": "code",
    "id": "5TZY58ogfPRH",
    "outputId": "62d331b5-afe6-48a0-d149-fb9949e85e37"
   },
   "outputs": [
    {
     "name": "stdout",
     "output_type": "stream",
     "text": [
      "(5400, 64, 64, 13)\n",
      "(5400,)\n",
      "(21600, 64, 64, 13)\n",
      "(21600,)\n"
     ]
    }
   ],
   "source": [
    "import matplotlib.pyplot as plt\n",
    "import numpy as np\n",
    "import tensorflow as tf\n",
    "import keras\n",
    "import tensorflow_datasets as tfds\n",
    "\n",
    "\n",
    "test_set , test_info= tfds.load(\"eurosat/all\", split='train[0:20%]',shuffle_files=True, with_info=True, as_supervised=True)\n",
    "train_set, train_info = tfds.load(\"eurosat/all\", split='train[20%:100%]', shuffle_files=True, with_info=True, as_supervised = True)\n",
    "\n",
    "assert isinstance(test_set, tf.data.Dataset)\n",
    "assert isinstance(train_set, tf.data.Dataset)\n",
    "\n",
    "test_images = []\n",
    "test_labels = []\n",
    "\n",
    "train_images = []\n",
    "train_labels = []\n",
    "\n",
    "for image, label in test_set:\n",
    "    \n",
    "    test_images.append(np.array(image)/255)\n",
    "    test_labels.append(np.array(label))\n",
    "\n",
    "    \n",
    "for image, label in train_set:\n",
    "    train_images.append(np.array(image)/255)\n",
    "    train_labels.append(np.array(label))\n",
    "    \n",
    "    \n",
    "test_images = np.array(test_images)\n",
    "test_labels = np.array(test_labels)\n",
    "train_images = np.array(train_images)\n",
    "train_labels = np.array(train_labels)\n",
    "\n",
    "\n",
    "print(test_images.shape)\n",
    "print(test_labels.shape)\n",
    "print(train_images.shape)\n",
    "print(train_labels.shape)\n",
    "\n",
    "\n",
    "\n",
    "input_shape = (64,64,13)"
   ]
  },
  {
   "cell_type": "code",
   "execution_count": null,
   "metadata": {
    "colab": {},
    "colab_type": "code",
    "id": "gYrfJmp0iZ9N"
   },
   "outputs": [],
   "source": [
    "model = keras.Sequential([\n",
    "        keras.layers.Conv2D(filters = 64 , kernel_size = 1,  strides = 1, input_shape=input_shape, activation='relu'),\n",
    "        keras.layers.Conv2D(filters = 128 , kernel_size = 3,  strides = 1, activation='relu'),\n",
    "        keras.layers.Conv2D(filters = 256 , kernel_size = 5, strides = 1, activation='relu'),\n",
    "        keras.layers.MaxPooling2D(pool_size=2, strides=2),\n",
    "        keras.layers.Flatten(),\n",
    "        keras.layers.Dense(64, activation = 'relu' ),\n",
    "        keras.layers.Dense(128, activation = 'relu' ),\n",
    "        keras.layers.Dense(10)\n",
    "    ])\n",
    "\n",
    "\n",
    "model.compile(optimizer = 'adam', loss = keras.losses.SparseCategoricalCrossentropy(from_logits = True), metrics = ['accuracy'])\n"
   ]
  },
  {
   "cell_type": "code",
   "execution_count": null,
   "metadata": {
    "colab": {
     "base_uri": "https://localhost:8080/",
     "height": 420
    },
    "colab_type": "code",
    "id": "GwzM0gcu6pTz",
    "outputId": "e397c674-d9e0-4aaa-a698-59b5d0242222"
   },
   "outputs": [
    {
     "name": "stdout",
     "output_type": "stream",
     "text": [
      "Model: \"sequential_3\"\n",
      "_________________________________________________________________\n",
      "Layer (type)                 Output Shape              Param #   \n",
      "=================================================================\n",
      "conv2d_5 (Conv2D)            (None, 64, 64, 64)        896       \n",
      "_________________________________________________________________\n",
      "conv2d_6 (Conv2D)            (None, 62, 62, 128)       73856     \n",
      "_________________________________________________________________\n",
      "conv2d_7 (Conv2D)            (None, 58, 58, 256)       819456    \n",
      "_________________________________________________________________\n",
      "max_pooling2d_3 (MaxPooling2 (None, 29, 29, 256)       0         \n",
      "_________________________________________________________________\n",
      "flatten_3 (Flatten)          (None, 215296)            0         \n",
      "_________________________________________________________________\n",
      "dense_6 (Dense)              (None, 64)                13779008  \n",
      "_________________________________________________________________\n",
      "dense_7 (Dense)              (None, 128)               8320      \n",
      "_________________________________________________________________\n",
      "dense_8 (Dense)              (None, 10)                1290      \n",
      "=================================================================\n",
      "Total params: 14,682,826\n",
      "Trainable params: 14,682,826\n",
      "Non-trainable params: 0\n",
      "_________________________________________________________________\n"
     ]
    }
   ],
   "source": [
    "model.summary()"
   ]
  },
  {
   "cell_type": "code",
   "execution_count": null,
   "metadata": {
    "colab": {
     "base_uri": "https://localhost:8080/",
     "height": 370
    },
    "colab_type": "code",
    "id": "ldR98KrQifbt",
    "outputId": "8f417b85-af8e-475b-d5b8-cc983c97d9bd"
   },
   "outputs": [
    {
     "name": "stdout",
     "output_type": "stream",
     "text": [
      "Epoch 1/10\n",
      "21600/21600 [==============================] - 92s 4ms/step - loss: 1.1459 - accuracy: 0.6877\n",
      "Epoch 2/10\n",
      "21600/21600 [==============================] - 92s 4ms/step - loss: 0.5001 - accuracy: 0.8296\n",
      "Epoch 3/10\n",
      "21600/21600 [==============================] - 92s 4ms/step - loss: 0.4013 - accuracy: 0.8660\n",
      "Epoch 4/10\n",
      "21600/21600 [==============================] - 92s 4ms/step - loss: 0.3008 - accuracy: 0.8977\n",
      "Epoch 5/10\n",
      "21600/21600 [==============================] - 92s 4ms/step - loss: 0.2670 - accuracy: 0.9110\n",
      "Epoch 6/10\n",
      "21600/21600 [==============================] - 92s 4ms/step - loss: 0.2140 - accuracy: 0.9273\n",
      "Epoch 7/10\n",
      "21600/21600 [==============================] - 92s 4ms/step - loss: 0.1706 - accuracy: 0.9433\n",
      "Epoch 8/10\n",
      "21600/21600 [==============================] - 92s 4ms/step - loss: 0.1619 - accuracy: 0.9481\n",
      "Epoch 9/10\n",
      "21600/21600 [==============================] - 92s 4ms/step - loss: 0.1335 - accuracy: 0.9574\n",
      "Epoch 10/10\n",
      "21600/21600 [==============================] - 92s 4ms/step - loss: 0.1324 - accuracy: 0.9569\n",
      "Test Accuracy :  0.9040740728378296\n"
     ]
    }
   ],
   "source": [
    "model.fit(train_images, train_labels, epochs = 10, batch_size = 32)\n",
    "\n",
    "test_loss , test_acc = model.evaluate(test_images, test_labels, verbose=2)\n",
    "\n",
    "print(\"Test Accuracy : \",test_acc)"
   ]
  },
  {
   "cell_type": "code",
   "execution_count": null,
   "metadata": {
    "colab": {
     "base_uri": "https://localhost:8080/",
     "height": 34
    },
    "colab_type": "code",
    "id": "B3Y4Z7yNu8uD",
    "outputId": "8dfc3fef-8b21-4a31-c438-07ed26b8a875"
   },
   "outputs": [
    {
     "name": "stdout",
     "output_type": "stream",
     "text": [
      "21600/21600 [==============================] - 31s 1ms/step\n"
     ]
    }
   ],
   "source": [
    "training_loss , training_accuracy = model.evaluate(train_images,train_labels)"
   ]
  },
  {
   "cell_type": "code",
   "execution_count": null,
   "metadata": {
    "colab": {
     "base_uri": "https://localhost:8080/",
     "height": 50
    },
    "colab_type": "code",
    "id": "DpknIdB65SG3",
    "outputId": "94eba1a0-3d42-4a87-a159-1f1314db47ff"
   },
   "outputs": [
    {
     "name": "stdout",
     "output_type": "stream",
     "text": [
      "Train Accuracy :  0.9791666865348816\n",
      "Test Accuracy :  0.9040740728378296\n"
     ]
    }
   ],
   "source": [
    "print(\"Train Accuracy : \",training_accuracy)\n",
    "print(\"Test Accuracy : \",test_acc)"
   ]
  },
  {
   "cell_type": "code",
   "execution_count": null,
   "metadata": {
    "colab": {},
    "colab_type": "code",
    "id": "IK62D_jN5qAW"
   },
   "outputs": [],
   "source": []
  }
 ],
 "metadata": {
  "accelerator": "GPU",
  "colab": {
   "collapsed_sections": [],
   "name": "MLAA Task 2.ipynb",
   "provenance": []
  },
  "kernelspec": {
   "display_name": "Python 3",
   "language": "python",
   "name": "python3"
  },
  "language_info": {
   "codemirror_mode": {
    "name": "ipython",
    "version": 3
   },
   "file_extension": ".py",
   "mimetype": "text/x-python",
   "name": "python",
   "nbconvert_exporter": "python",
   "pygments_lexer": "ipython3",
   "version": "3.7.7"
  }
 },
 "nbformat": 4,
 "nbformat_minor": 1
}
